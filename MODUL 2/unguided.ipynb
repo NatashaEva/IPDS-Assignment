{
 "cells": [
  {
   "cell_type": "code",
   "execution_count": 1,
   "metadata": {},
   "outputs": [
    {
     "name": "stdout",
     "output_type": "stream",
     "text": [
      "ini adalah file code unguided praktikan\n"
     ]
    }
   ],
   "source": [
    "print(\"ini adalah file code unguided praktikan\")"
   ]
  },
  {
   "cell_type": "markdown",
   "metadata": {},
   "source": [
    "1. Buatlah program yang dapat menghasilkan pola berbentuk angka seperti di bawah ini, dengan syarat angka yang ditampilkan adalah hasil dari penjumlahan bilangan prima sebelumnya:\n",
    "```\n",
    "1\n",
    "2 3\n",
    "5 7 11\n",
    "13 17 19 23\n"
   ]
  },
  {
   "cell_type": "code",
   "execution_count": 16,
   "metadata": {},
   "outputs": [
    {
     "name": "stdout",
     "output_type": "stream",
     "text": [
      "1\n",
      "2 3\n",
      "5 7 11\n",
      "13 17 19 23\n"
     ]
    }
   ],
   "source": [
    "def bil_prima(n):\n",
    "    return all(n % i != 0 for i in range(2, int(n**0.5) + 1)) if n > 1 else False\n",
    "\n",
    "def pola_bilangan(rows):\n",
    "    primes, num = [1], 2  \n",
    "    for r in range(1, rows + 1):\n",
    "        while len(primes) < sum(range(r + 1)):\n",
    "            if bil_prima(num):\n",
    "                primes.append(num)\n",
    "            num += 1\n",
    "        print(*primes[sum(range(r)):sum(range(r + 1))])\n",
    "\n",
    "rows = 4  \n",
    "pola_bilangan(rows)"
   ]
  },
  {
   "cell_type": "markdown",
   "metadata": {},
   "source": [
    "2. Buatlah sebuah fungsi yang menerima dua input berupa list angka. Fungsi ini harus mengembalikan sebuah list baru yang berisi elemen dari dua list input yang memiliki indeks ganjil. List baru tersebut juga harus diurutkan secara menurun berdasarkan nilai elemen"
   ]
  },
  {
   "cell_type": "code",
   "execution_count": 7,
   "metadata": {},
   "outputs": [
    {
     "name": "stdout",
     "output_type": "stream",
     "text": [
      "[31, 4, 3, 1]\n"
     ]
    }
   ],
   "source": [
    "def penggabungan(list_a, list_b):\n",
    "    return sorted(list_1[1::2] + list_2[1::2], reverse=True)\n",
    "\n",
    "list_1 = [5, 1, 10, 3]\n",
    "list_2 = [7, 31, 99, 4]\n",
    "\n",
    "hasil = penggabungan(list_1, list_2)\n",
    "print(hasil)  \n"
   ]
  },
  {
   "cell_type": "markdown",
   "metadata": {},
   "source": [
    "3) Buat sebuah program untuk mensimulasikan transaksi ATM. Program harus:\n",
    "   1. Meminta pengguna memasukkan PIN (dibatasi 3 kali percobaan).\n",
    "   2. Setelah PIN benar, meminta jumlah penarikan.\n",
    "   3. Jika saldo kurang dari jumlah yang ditarik, munculkan pesan kesalahan.\n",
    "   4. Jika penarikan berhasil, tampilkan saldo akhir.\n"
   ]
  },
  {
   "cell_type": "code",
   "execution_count": 10,
   "metadata": {},
   "outputs": [
    {
     "name": "stdout",
     "output_type": "stream",
     "text": [
      "PIN salah. Silakan coba lagi.\n",
      "PIN salah. Silakan coba lagi.\n",
      "PIN salah. Silakan coba lagi.\n",
      "Anda telah 3 kali salah memasukkan PIN. Akun Anda diblokir.\n"
     ]
    }
   ],
   "source": [
    "import random\n",
    "\n",
    "pin_atm = \"1201\"\n",
    "saldo = 1000000\n",
    "batas_percobaan = 3\n",
    "max_penarikan = 5000000\n",
    "\n",
    "def simulasi_atm():\n",
    "    global saldo\n",
    "\n",
    "    for i in range(batas_percobaan):\n",
    "        pin = input(\"Masukkan PIN : \")\n",
    "        if pin == pin_atm:\n",
    "            print(\"PIN benar.\")\n",
    "            break\n",
    "        else:\n",
    "            print(\"PIN salah. Silakan coba lagi.\")\n",
    "    else:\n",
    "        print(\"Anda telah 3 kali salah memasukkan PIN. Akun Anda diblokir.\")\n",
    "        return\n",
    "\n",
    "    try:\n",
    "        jumlah_tarik = int(input(\"Masukkan jumlah penarikan: \"))\n",
    "        if jumlah_tarik <= 0:\n",
    "            print(\"Jumlah penarikan harus lebih dari 0.\")\n",
    "        elif jumlah_tarik > max_penarikan:\n",
    "            print(f\"Jumlah penarikan melebihi batas maksimal ({max_penarikan}).\")\n",
    "        elif jumlah_tarik > saldo:\n",
    "            print(f\"Saldo tidak mencukupi. Saldo Anda: Rp{saldo}\")\n",
    "        else:\n",
    "            saldo -= jumlah_tarik\n",
    "            print(f\"Penarikan berhasil. Saldo akhir Anda: Rp{saldo}\")\n",
    "    except ValueError:\n",
    "        print(\"Input tidak valid. Harus berupa angka.\")\n",
    "\n",
    "simulasi_atm()"
   ]
  },
  {
   "cell_type": "markdown",
   "metadata": {},
   "source": [
    "4. Anda diberikan file CSV berisi data nilai ujian mahasiswa. Tugas Anda adalah menulis sebuah program yang:\n",
    "   1. Membaca file CSV dan menyimpan datanya ke dalam dictionary.\n",
    "   2. Menghitung rata-rata nilai tiap mahasiswa.\n",
    "   3. Menampilkan mahasiswa dengan nilai tertinggi dan terendah."
   ]
  },
  {
   "cell_type": "code",
   "execution_count": 20,
   "metadata": {},
   "outputs": [
    {
     "name": "stdout",
     "output_type": "stream",
     "text": [
      "{'Nama Siswa;Nilai': ['Siswa_1;59', 'Siswa_2;79', 'Siswa_3;61', 'Siswa_4;74', 'Siswa_5;50', 'Siswa_6;70', 'Siswa_7;100', 'Siswa_8;84', 'Siswa_9;78', 'Siswa_10;61', 'Siswa_11;92', 'Siswa_12;60', 'Siswa_13;78', 'Siswa_14;87', 'Siswa_15;57', 'Siswa_16;73', 'Siswa_17;53', 'Siswa_18;54', 'Siswa_19;97', 'Siswa_20;52', 'Siswa_21;84', 'Siswa_22;89', 'Siswa_23;52', 'Siswa_24;90', 'Siswa_25;52', 'Siswa_26;64', 'Siswa_27;96', 'Siswa_28;100', 'Siswa_29;84', 'Siswa_30;60', 'Siswa_31;85', 'Siswa_32;63', 'Siswa_33;64', 'Siswa_34;68', 'Siswa_35;67', 'Siswa_36;52', 'Siswa_37;79', 'Siswa_38;55', 'Siswa_39;88', 'Siswa_40;95', 'Siswa_41;78', 'Siswa_42;66', 'Siswa_43;71', 'Siswa_44;64', 'Siswa_45;51', 'Siswa_46;77', 'Siswa_47;90', 'Siswa_48;83', 'Siswa_49;99', 'Siswa_50;56', 'Siswa_51;68', 'Siswa_52;88', 'Siswa_53;62', 'Siswa_54;98', 'Siswa_55;58', 'Siswa_56;92', 'Siswa_57;60', 'Siswa_58;55', 'Siswa_59;93', 'Siswa_60;60', 'Siswa_61;53', 'Siswa_62;79', 'Siswa_63;75', 'Siswa_64;83', 'Siswa_65;58', 'Siswa_66;50', 'Siswa_67;75', 'Siswa_68;61', 'Siswa_69;57', 'Siswa_70;98', 'Siswa_71;85', 'Siswa_72;57', 'Siswa_73;53', 'Siswa_74;55', 'Siswa_75;54', 'Siswa_76;64', 'Siswa_77;51', 'Siswa_78;65', 'Siswa_79;68', 'Siswa_80;51', 'Siswa_81;99', 'Siswa_82;89', 'Siswa_83;92', 'Siswa_84;56', 'Siswa_85;96', 'Siswa_86;79', 'Siswa_87;76', 'Siswa_88;71', 'Siswa_89;98', 'Siswa_90;89', 'Siswa_91;92', 'Siswa_92;65', 'Siswa_93;50', 'Siswa_94;84', 'Siswa_95;67', 'Siswa_96;59', 'Siswa_97;57', 'Siswa_98;70', 'Siswa_99;66', 'Siswa_100;78']}\n"
     ]
    }
   ],
   "source": [
    "import pandas as pd\n",
    "\n",
    "df = pd.read_csv(r\"E:\\KULIAH\\SEMESTER 3\\IPDS\\siswa_nilai.csv\")\n",
    "\n",
    "dictionary = df.to_dict(orient='list')\n",
    "print(dictionary)"
   ]
  },
  {
   "cell_type": "code",
   "execution_count": null,
   "metadata": {},
   "outputs": [],
   "source": [
    "Total = df['Nilai'].sum()\n",
    "Average_Nilai= df['Nilai'].mean()\n",
    "print('{:,.2f}'.format(Average_Nilai))\n",
    "print('{:,.2f}'.format(Total) )"
   ]
  },
  {
   "cell_type": "markdown",
   "metadata": {},
   "source": [
    "5. Buatlah permainan sederhana menggunakan Python, di mana komputer akan memilih sebuah angka secara acak antara 1 hingga 100, dan pengguna harus menebak angka tersebut. Setiap tebakan yang salah akan memberikan petunjuk apakah angka yang ditebak lebih besar atau lebih kecil dari angka sebenarnya. Batasi jumlah percobaan menjadi 5 kali. Setelah permainan selesai, tampilkan apakah pemain menang atau kalah."
   ]
  },
  {
   "cell_type": "code",
   "execution_count": 4,
   "metadata": {},
   "outputs": [
    {
     "name": "stdout",
     "output_type": "stream",
     "text": [
      "========================================\n",
      "Kami telah memiliki angka, silakan tebak!\n",
      "========================================\n",
      "Tebakanmu terlalu besar\n",
      "Tebakanmu terlalu kecil\n",
      "Tebakanmu terlalu besar\n",
      "Tebakanmu terlalu besar\n",
      "Tebakanmu terlalu kecil\n",
      "\n",
      "Yah sayang sekali, kamu sudah salah menebak sebanyak 5x! Angka rahasianya adalah 22 besok lagi ya\n"
     ]
    }
   ],
   "source": [
    "import random\n",
    "\n",
    "secret_number = random.randint(1, 100)\n",
    "\n",
    "print('=' * 40)\n",
    "print('Kami sudah memilih angka, tebak coba!')\n",
    "print('=' * 40)\n",
    "\n",
    "batas_percobaan = 5\n",
    "for percobaan in range(batas_percobaan):\n",
    "    jawaban = int(input(f'\\n[Percobaan {percobaan + 1}] Masukkan angka: '))\n",
    "\n",
    "    if jawaban == secret_number:\n",
    "        print('Selamat, tebakanmu benar GG!')\n",
    "        break\n",
    "    else:\n",
    "        print(\n",
    "            'Tebakanmu terlalu',\n",
    "            'kecil' if jawaban < secret_number else 'besar'\n",
    "        )\n",
    "else:\n",
    "    print(f'\\nYah sayang sekali, kamu sudah salah menebak sebanyak {batas_percobaan}x! Angka rahasianya adalah {angka_rahasia} besok lagi ya')"
   ]
  },
  {
   "cell_type": "markdown",
   "metadata": {},
   "source": [
    "6. Buat fungsi rekursif yang menerima input bilangan bulat `n` dan menghasilkan urutan bilangan seperti berikut ini:\n",
    "```\n",
    "Input: n = 4\n",
    "Output: 1, 1, 2, 6, 24\n",
    "```\n",
    "Fungsi ini harus menggunakan konsep rekursi untuk menghitung faktorial setiap angka hingga `n`."
   ]
  },
  {
   "cell_type": "code",
   "execution_count": 11,
   "metadata": {},
   "outputs": [
    {
     "name": "stdout",
     "output_type": "stream",
     "text": [
      "1, 1, 2, 6, 24\n"
     ]
    }
   ],
   "source": [
    "def faktorial(x):\n",
    "    return 1 if x <= 1 else x * faktorial(x-1)\n",
    "\n",
    "def urutan_angka(n):\n",
    "    return [faktorial(i) for i in range(n+1)]\n",
    "\n",
    "n = 4\n",
    "hasil = urutan_angka(n)\n",
    "print(', '.join(map(str, hasil)))"
   ]
  },
  {
   "cell_type": "markdown",
   "metadata": {},
   "source": [
    "7. Buatlah program untuk memecahkan masalah \"minimum coin change\". Diberikan jumlah uang dan daftar nilai koin yang tersedia (misalnya, 1, 5, 10, 25), tentukan kombinasi minimum koin yang diperlukan untuk mencapai jumlah uang tersebut. Namun, program Anda harus bisa menangani koin-koin yang nilai dan jumlahnya ditentukan pengguna."
   ]
  },
  {
   "cell_type": "code",
   "execution_count": 29,
   "metadata": {},
   "outputs": [
    {
     "name": "stdout",
     "output_type": "stream",
     "text": [
      "Jumlah koin minimum yang diperlukan untuk mencapai nilai 100 adalah 4.\n",
      "Kombinasi minimum koin yang diperlukan:\n",
      "[25, 25, 25, 25]\n"
     ]
    }
   ],
   "source": [
    "def minCoinChange(koin, total):\n",
    "    table = [float('inf')] * (total + 1)\n",
    "    table[0] = 0\n",
    "\n",
    "    kombinasi_koin = [[] for _ in range(total + 1)]\n",
    "\n",
    "    for i in range(1, total + 1):\n",
    "        for j in range(len(koin)):\n",
    "            if koin[j] <= i:\n",
    "                sub_res = table[i - koin[j]]\n",
    "                if sub_res + 1 < table[i]:\n",
    "                    table[i] = sub_res + 1\n",
    "                    kombinasi_koin[i] = kombinasi_koin[i - koin[j]] + [koin[j]]\n",
    "\n",
    "    if table[total] == float('inf'):\n",
    "        return -1, []\n",
    "    else:\n",
    "        return table[total], kombinasi_koin[total]\n",
    "\n",
    "koin = [1, 5, 10, 25]\n",
    "\n",
    "total = int(input(\"Masukkan jumlah nilai yang diinginkan : \"))\n",
    "\n",
    "hasil, distribusi_koin = minCoinChange(coins, total)\n",
    "\n",
    "if hasil == -1:\n",
    "    print(f\"Tidak mungkin mencapai nilai {total} dengan kombinasi koin yang ada.\")\n",
    "else:\n",
    "    print(f\"Jumlah minimum koin yang diperlukan untuk mencapai nilai {total} adalah {hasil}.\")\n",
    "    print(\"Kombinasi minimum koin yang diperlukan:\")\n",
    "    print(f\"{distribusi_koin}\")\n"
   ]
  },
  {
   "cell_type": "markdown",
   "metadata": {},
   "source": [
    "8. Buat sebuah program yang menerima string dari pengguna dan mengonversi string tersebut menjadi sebuah list berisi kata-kata terbalik. Misalnya:\n",
    "```\n",
    "Input: \"Saya suka Python\"\n",
    "Output: [\"ayaS\", \"akus\", \"nohtyP\"]\n",
    "```"
   ]
  },
  {
   "cell_type": "code",
   "execution_count": 32,
   "metadata": {},
   "outputs": [
    {
     "name": "stdout",
     "output_type": "stream",
     "text": [
      "Input : saya suka kamu\n",
      "Output : ayas akus umak\n"
     ]
    }
   ],
   "source": [
    "def balik_kata(teks):\n",
    "    contoh_kalimat = teks.split()\n",
    "    kata_terbalik = [kata[::-1] for kata in contoh_kalimat]\n",
    "    return ' '.join(kata_terbalik)\n",
    "\n",
    "input_teks = input(\"Input kalimat: \")\n",
    "\n",
    "output = balik_kata(input_teks)\n",
    "print(\"Input :\", input_teks)\n",
    "print(\"Output :\", output)"
   ]
  },
  {
   "cell_type": "markdown",
   "metadata": {},
   "source": [
    "9. Buat class bernama `Buku` yang memiliki atribut `judul`, `penulis`, dan `tahun_terbit`. Buat method dalam class untuk menampilkan informasi buku, serta method untuk menghitung usia buku berdasarkan tahun saat ini. Buatlah 3 objek dari class `Buku` dan tampilkan informasi serta usia masing-masing buku"
   ]
  },
  {
   "cell_type": "code",
   "execution_count": 2,
   "metadata": {},
   "outputs": [
    {
     "name": "stdout",
     "output_type": "stream",
     "text": [
      "Judul: The Magic Library\n",
      "Penulis: Jostein Gaarder & Klaus Hagerup\n",
      "Tahun Terbit: 2016\n",
      "Usia Buku: 8 tahun\n",
      "\n",
      "Judul: Keajaiban Toko Kelontong Namiya\n",
      "Penulis: Keigo Higashino\n",
      "Tahun Terbit: 2012\n",
      "Usia Buku: 12 tahun\n",
      "\n",
      "Judul: Semua Ikan di Langit\n",
      "Penulis: Ziggy Zeszyazeoviennazabrizkie\n",
      "Tahun Terbit: 2022\n",
      "Usia Buku: 2 tahun\n",
      "\n"
     ]
    }
   ],
   "source": [
    "from datetime import datetime\n",
    "\n",
    "class Buku:\n",
    "    def __init__(self, judul, penulis, tahun_terbit):\n",
    "        self.judul = judul\n",
    "        self.penulis = penulis\n",
    "        self.tahun_terbit = tahun_terbit\n",
    "\n",
    "    def tampilkan_informasi(self):\n",
    "        print(f\"Judul: {self.judul}\")\n",
    "        print(f\"Penulis: {self.penulis}\")\n",
    "        print(f\"Tahun Terbit: {self.tahun_terbit}\")\n",
    "\n",
    "    def hitung_usia(self):\n",
    "        tahun_sekarang = datetime.now().year\n",
    "        usia = tahun_sekarang - self.tahun_terbit\n",
    "        return usia\n",
    "\n",
    "\n",
    "buku1 = Buku(\"The Magic Library\", \"Jostein Gaarder & Klaus Hagerup\", 2016)\n",
    "buku2 = Buku(\"Keajaiban Toko Kelontong Namiya\", \"Keigo Higashino\", 2012)\n",
    "buku3 = Buku(\"Semua Ikan di Langit\", \"Ziggy Zeszyazeoviennazabrizkie\", 2022)\n",
    "\n",
    "for buku in [buku1, buku2, buku3]:\n",
    "    buku.tampilkan_informasi()\n",
    "    print(f\"Usia Buku: {buku.hitung_usia()} tahun\\n\")\n"
   ]
  },
  {
   "cell_type": "markdown",
   "metadata": {},
   "source": [
    "10. Buatlah program yang mengimplementasikan algoritma pencarian biner, namun dengan modifikasi: algoritma harus bisa mencari nilai di list yang hanya berisi angka genap, dan jika nilai yang dicari adalah angka ganjil, program harus menampilkan pesan bahwa nilai tersebut tidak bisa ditemukan."
   ]
  },
  {
   "cell_type": "code",
   "execution_count": 33,
   "metadata": {},
   "outputs": [
    {
     "name": "stdout",
     "output_type": "stream",
     "text": [
      "Nilai 3 adalah angka ganjil dan tidak dapat ditemukan dalam daftar yang hanya berisi angka genap.\n"
     ]
    }
   ],
   "source": [
    "def pencarian_biner(arr, target):\n",
    "    if target % 2 != 0:\n",
    "        print(f\"Nilai {target} adalah bilangan ganjil dan tidak ada dalam daftar yang hanya berisi bilangan genap.\")\n",
    "        return -1\n",
    "\n",
    "    left = 0\n",
    "    right = len(arr) - 1\n",
    "\n",
    "    while left <= right:\n",
    "        mid = (left + right) // 2\n",
    "\n",
    "        if arr[mid] == target:\n",
    "            return mid\n",
    "        elif arr[mid] > target:\n",
    "            right = mid - 1\n",
    "        else:\n",
    "            left = mid + 1\n",
    "\n",
    "    return -1\n",
    "\n",
    "list_bilangan = [2, 4, 6, 8, 10, 12, 14, 16, 18, 20]\n",
    "\n",
    "target = int(input(\"Masukkan angka yang ingin dicari: \"))\n",
    "\n",
    "hasil = pencarian_biner(list_bilangan, target)\n",
    "\n",
    "if hasil != -1:\n",
    "    print(f\"Nilai {target} ada pada indeks {hasil}.\")\n",
    "else:\n",
    "    if target % 2 == 0:\n",
    "        print(f\"Nilai {target} tidak ada dalam daftar.\")\n"
   ]
  }
 ],
 "metadata": {
  "kernelspec": {
   "display_name": "base",
   "language": "python",
   "name": "python3"
  },
  "language_info": {
   "codemirror_mode": {
    "name": "ipython",
    "version": 3
   },
   "file_extension": ".py",
   "mimetype": "text/x-python",
   "name": "python",
   "nbconvert_exporter": "python",
   "pygments_lexer": "ipython3",
   "version": "3.11.5"
  }
 },
 "nbformat": 4,
 "nbformat_minor": 2
}
